{
 "cells": [
  {
   "cell_type": "code",
   "execution_count": 1,
   "metadata": {},
   "outputs": [],
   "source": [
    "import wooldridge as woo\n",
    "import numpy as np\n",
    "import pandas as pd\n",
    "import matplotlib.pyplot as plt"
   ]
  },
  {
   "cell_type": "code",
   "execution_count": 2,
   "metadata": {},
   "outputs": [],
   "source": [
    "ceosal1 = woo.dataWoo('ceosal1')\n",
    "\n",
    "roe = ceosal1['roe']"
   ]
  },
  {
   "cell_type": "code",
   "execution_count": 3,
   "metadata": {},
   "outputs": [
    {
     "data": {
      "text/html": [
       "<div>\n",
       "<style scoped>\n",
       "    .dataframe tbody tr th:only-of-type {\n",
       "        vertical-align: middle;\n",
       "    }\n",
       "\n",
       "    .dataframe tbody tr th {\n",
       "        vertical-align: top;\n",
       "    }\n",
       "\n",
       "    .dataframe thead th {\n",
       "        text-align: right;\n",
       "    }\n",
       "</style>\n",
       "<table border=\"1\" class=\"dataframe\">\n",
       "  <thead>\n",
       "    <tr style=\"text-align: right;\">\n",
       "      <th></th>\n",
       "      <th>salary</th>\n",
       "      <th>pcsalary</th>\n",
       "      <th>sales</th>\n",
       "      <th>roe</th>\n",
       "      <th>pcroe</th>\n",
       "      <th>ros</th>\n",
       "      <th>indus</th>\n",
       "      <th>finance</th>\n",
       "      <th>consprod</th>\n",
       "      <th>utility</th>\n",
       "      <th>lsalary</th>\n",
       "      <th>lsales</th>\n",
       "    </tr>\n",
       "  </thead>\n",
       "  <tbody>\n",
       "    <tr>\n",
       "      <th>0</th>\n",
       "      <td>1095</td>\n",
       "      <td>20</td>\n",
       "      <td>27595.000000</td>\n",
       "      <td>14.1</td>\n",
       "      <td>106.400002</td>\n",
       "      <td>191</td>\n",
       "      <td>1</td>\n",
       "      <td>0</td>\n",
       "      <td>0</td>\n",
       "      <td>0</td>\n",
       "      <td>6.998509</td>\n",
       "      <td>10.225389</td>\n",
       "    </tr>\n",
       "    <tr>\n",
       "      <th>1</th>\n",
       "      <td>1001</td>\n",
       "      <td>32</td>\n",
       "      <td>9958.000000</td>\n",
       "      <td>10.9</td>\n",
       "      <td>-30.600000</td>\n",
       "      <td>13</td>\n",
       "      <td>1</td>\n",
       "      <td>0</td>\n",
       "      <td>0</td>\n",
       "      <td>0</td>\n",
       "      <td>6.908755</td>\n",
       "      <td>9.206132</td>\n",
       "    </tr>\n",
       "    <tr>\n",
       "      <th>2</th>\n",
       "      <td>1122</td>\n",
       "      <td>9</td>\n",
       "      <td>6125.899902</td>\n",
       "      <td>23.5</td>\n",
       "      <td>-16.299999</td>\n",
       "      <td>14</td>\n",
       "      <td>1</td>\n",
       "      <td>0</td>\n",
       "      <td>0</td>\n",
       "      <td>0</td>\n",
       "      <td>7.022868</td>\n",
       "      <td>8.720281</td>\n",
       "    </tr>\n",
       "    <tr>\n",
       "      <th>3</th>\n",
       "      <td>578</td>\n",
       "      <td>-9</td>\n",
       "      <td>16246.000000</td>\n",
       "      <td>5.9</td>\n",
       "      <td>-25.700001</td>\n",
       "      <td>-21</td>\n",
       "      <td>1</td>\n",
       "      <td>0</td>\n",
       "      <td>0</td>\n",
       "      <td>0</td>\n",
       "      <td>6.359574</td>\n",
       "      <td>9.695602</td>\n",
       "    </tr>\n",
       "    <tr>\n",
       "      <th>4</th>\n",
       "      <td>1368</td>\n",
       "      <td>7</td>\n",
       "      <td>21783.199219</td>\n",
       "      <td>13.8</td>\n",
       "      <td>-3.000000</td>\n",
       "      <td>56</td>\n",
       "      <td>1</td>\n",
       "      <td>0</td>\n",
       "      <td>0</td>\n",
       "      <td>0</td>\n",
       "      <td>7.221105</td>\n",
       "      <td>9.988894</td>\n",
       "    </tr>\n",
       "  </tbody>\n",
       "</table>\n",
       "</div>"
      ],
      "text/plain": [
       "   salary  pcsalary         sales   roe       pcroe  ros  indus  finance  \\\n",
       "0    1095        20  27595.000000  14.1  106.400002  191      1        0   \n",
       "1    1001        32   9958.000000  10.9  -30.600000   13      1        0   \n",
       "2    1122         9   6125.899902  23.5  -16.299999   14      1        0   \n",
       "3     578        -9  16246.000000   5.9  -25.700001  -21      1        0   \n",
       "4    1368         7  21783.199219  13.8   -3.000000   56      1        0   \n",
       "\n",
       "   consprod  utility   lsalary     lsales  \n",
       "0         0        0  6.998509  10.225389  \n",
       "1         0        0  6.908755   9.206132  \n",
       "2         0        0  7.022868   8.720281  \n",
       "3         0        0  6.359574   9.695602  \n",
       "4         0        0  7.221105   9.988894  "
      ]
     },
     "execution_count": 3,
     "metadata": {},
     "output_type": "execute_result"
    }
   ],
   "source": [
    "ceosal1.head()"
   ]
  },
  {
   "cell_type": "markdown",
   "metadata": {},
   "source": [
    "## Calculate ECDF"
   ]
  },
  {
   "cell_type": "code",
   "execution_count": 4,
   "metadata": {},
   "outputs": [],
   "source": [
    "x = np.sort(roe)\n",
    "n = x.size\n",
    "y = np.arange(1, n+1) / n # generates cumulative shares of observations"
   ]
  },
  {
   "cell_type": "markdown",
   "metadata": {},
   "source": [
    "## Plot a step function"
   ]
  },
  {
   "cell_type": "code",
   "execution_count": 5,
   "metadata": {},
   "outputs": [
    {
     "data": {
      "text/plain": [
       "Text(0.5, 0, 'roe')"
      ]
     },
     "execution_count": 5,
     "metadata": {},
     "output_type": "execute_result"
    },
    {
     "data": {
      "image/png": "[encoded data removed]",
      "text/plain": [
       "<Figure size 432x288 with 1 Axes>"
      ]
     },
     "metadata": {
      "needs_background": "light"
     },
     "output_type": "display_data"
    }
   ],
   "source": [
    "plt.step(x, y, color='black')\n",
    "plt.xlabel('roe')"
   ]
  }
 ],
 "metadata": {
  "interpreter": {
   "hash": "37076da18eebd1fe0f889e44036619dd72e681550240459098febd5ff4963fe2"
  },
  "kernelspec": {
   "display_name": "Python 3.9.4 64-bit ('env': venv)",
   "language": "python",
   "name": "python3"
  },
  "language_info": {
   "codemirror_mode": {
    "name": "ipython",
    "version": 3
   },
   "file_extension": ".py",
   "mimetype": "text/x-python",
   "name": "python",
   "nbconvert_exporter": "python",
   "pygments_lexer": "ipython3",
   "version": "3.9.4"
  },
  "orig_nbformat": 4
 },
 "nbformat": 4,
 "nbformat_minor": 2
}
